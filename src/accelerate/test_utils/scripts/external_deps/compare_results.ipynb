{
 "cells": [
  {
   "cell_type": "code",
   "execution_count": 1,
   "id": "b418bf50-eae7-44b2-9771-16eddc25ee6b",
   "metadata": {},
   "outputs": [],
   "source": [
    "import pandas as pd"
   ]
  },
  {
   "cell_type": "code",
   "execution_count": 2,
   "id": "a0229bb3-9950-4e78-92d0-07c67e506a10",
   "metadata": {},
   "outputs": [],
   "source": [
    "te_df = pd.read_csv('training_results_TE.csv')\n",
    "msamp_df = pd.read_csv('training_results_FP8.csv')\n",
    "bf16_df = pd.read_csv('training_results_BF16.csv')\n",
    "fp32_df = pd.read_csv('training_results_NO.csv')"
   ]
  },
  {
   "cell_type": "code",
   "execution_count": 3,
   "id": "02ea0091-6be4-4f0a-aef4-ad8a7d4f266d",
   "metadata": {},
   "outputs": [],
   "source": [
    "diff_results = pd.DataFrame()\n",
    "diff_results[\"step\"] = bf16_df[\"step\"]\n",
    "diff_results[\"diff_bf16\"] = fp32_df[\"loss\"] - bf16_df[\"loss\"]\n",
    "diff_results[\"diff_te\"] = fp32_df[\"loss\"] - te_df[\"loss\"]\n",
    "diff_results[\"diff_msamp\"] = fp32_df[\"loss\"] - msamp_df[\"loss\"]"
   ]
  },
  {
   "cell_type": "code",
   "execution_count": 5,
   "id": "684a6773-4fbd-4514-84ae-c8268a602509",
   "metadata": {},
   "outputs": [
    {
     "data": {
      "text/plain": [
       "diff_bf16     0.000000\n",
       "diff_te      -0.344709\n",
       "diff_msamp   -0.800935\n",
       "dtype: float64"
      ]
     },
     "execution_count": 5,
     "metadata": {},
     "output_type": "execute_result"
    }
   ],
   "source": [
    "diff_results[[\"diff_bf16\", \"diff_te\", \"diff_msamp\"]].sum()"
   ]
  },
  {
   "cell_type": "code",
   "execution_count": 7,
   "id": "108548f2-2309-4c8a-9cb5-fca3863bc1c7",
   "metadata": {},
   "outputs": [
    {
     "data": {
      "text/html": [
       "<div>\n",
       "<style scoped>\n",
       "    .dataframe tbody tr th:only-of-type {\n",
       "        vertical-align: middle;\n",
       "    }\n",
       "\n",
       "    .dataframe tbody tr th {\n",
       "        vertical-align: top;\n",
       "    }\n",
       "\n",
       "    .dataframe thead th {\n",
       "        text-align: right;\n",
       "    }\n",
       "</style>\n",
       "<table border=\"1\" class=\"dataframe\">\n",
       "  <thead>\n",
       "    <tr style=\"text-align: right;\">\n",
       "      <th></th>\n",
       "      <th>step</th>\n",
       "      <th>diff_bf16</th>\n",
       "      <th>diff_te</th>\n",
       "      <th>diff_msamp</th>\n",
       "    </tr>\n",
       "  </thead>\n",
       "  <tbody>\n",
       "    <tr>\n",
       "      <th>4681</th>\n",
       "      <td>4681</td>\n",
       "      <td>0.0</td>\n",
       "      <td>0.018621</td>\n",
       "      <td>0.020352</td>\n",
       "    </tr>\n",
       "    <tr>\n",
       "      <th>4682</th>\n",
       "      <td>4682</td>\n",
       "      <td>0.0</td>\n",
       "      <td>-0.035379</td>\n",
       "      <td>-0.030467</td>\n",
       "    </tr>\n",
       "    <tr>\n",
       "      <th>4683</th>\n",
       "      <td>4683</td>\n",
       "      <td>0.0</td>\n",
       "      <td>-0.000916</td>\n",
       "      <td>-0.001147</td>\n",
       "    </tr>\n",
       "    <tr>\n",
       "      <th>4684</th>\n",
       "      <td>4684</td>\n",
       "      <td>0.0</td>\n",
       "      <td>0.000367</td>\n",
       "      <td>0.000804</td>\n",
       "    </tr>\n",
       "    <tr>\n",
       "      <th>4685</th>\n",
       "      <td>4685</td>\n",
       "      <td>0.0</td>\n",
       "      <td>-0.000497</td>\n",
       "      <td>0.000164</td>\n",
       "    </tr>\n",
       "  </tbody>\n",
       "</table>\n",
       "</div>"
      ],
      "text/plain": [
       "      step  diff_bf16   diff_te  diff_msamp\n",
       "4681  4681        0.0  0.018621    0.020352\n",
       "4682  4682        0.0 -0.035379   -0.030467\n",
       "4683  4683        0.0 -0.000916   -0.001147\n",
       "4684  4684        0.0  0.000367    0.000804\n",
       "4685  4685        0.0 -0.000497    0.000164"
      ]
     },
     "execution_count": 7,
     "metadata": {},
     "output_type": "execute_result"
    }
   ],
   "source": [
    "diff_results.tail()"
   ]
  },
  {
   "cell_type": "code",
   "execution_count": 8,
   "id": "05e85e6d-38f1-40c8-bb86-84ac76c8f5a3",
   "metadata": {},
   "outputs": [
    {
     "data": {
      "text/plain": [
       "4681    0.215466\n",
       "4682    0.194954\n",
       "4683    0.010348\n",
       "4684    0.012253\n",
       "4685    0.031031\n",
       "Name: loss, dtype: float64"
      ]
     },
     "execution_count": 8,
     "metadata": {},
     "output_type": "execute_result"
    }
   ],
   "source": [
    "bf16_df[\"loss\"].tail()"
   ]
  },
  {
   "cell_type": "code",
   "execution_count": 9,
   "id": "f77376fd-30ca-444b-9415-7f41097d0bf2",
   "metadata": {},
   "outputs": [
    {
     "data": {
      "text/plain": [
       "4681    0.196845\n",
       "4682    0.230333\n",
       "4683    0.011264\n",
       "4684    0.011886\n",
       "4685    0.031527\n",
       "Name: loss, dtype: float64"
      ]
     },
     "execution_count": 9,
     "metadata": {},
     "output_type": "execute_result"
    }
   ],
   "source": [
    "te_df[\"loss\"].tail()"
   ]
  },
  {
   "cell_type": "code",
   "execution_count": 10,
   "id": "954ec8fd-92e3-4446-ad26-ad7907c3e0b3",
   "metadata": {},
   "outputs": [
    {
     "data": {
      "text/plain": [
       "4681    0.195114\n",
       "4682    0.225421\n",
       "4683    0.011495\n",
       "4684    0.011448\n",
       "4685    0.030866\n",
       "Name: loss, dtype: float64"
      ]
     },
     "execution_count": 10,
     "metadata": {},
     "output_type": "execute_result"
    }
   ],
   "source": [
    "msamp_df[\"loss\"].tail()"
   ]
  },
  {
   "cell_type": "code",
   "execution_count": 11,
   "id": "0e9dceed-0145-42c4-80bf-a580a036dc6b",
   "metadata": {},
   "outputs": [],
   "source": [
    "te_valid_df = pd.read_csv('valid_results_TE.csv')\n",
    "msamp_valid_df = pd.read_csv('valid_results_FP8.csv')\n",
    "bf16_valid_df = pd.read_csv('valid_results_BF16.csv')\n",
    "fp32_valid_df = pd.read_csv('valid_results_NO.csv')"
   ]
  },
  {
   "cell_type": "code",
   "execution_count": 12,
   "id": "6c8eca9f-8014-4392-897d-44cf5f71e615",
   "metadata": {},
   "outputs": [],
   "source": [
    "import ast\n",
    "convert_acc = lambda x: ast.literal_eval(x)[\"accuracy\"]\n",
    "\n",
    "te_valid_df[\"accuracy\"] = te_valid_df[\"accuracy\"].apply(convert_acc)\n",
    "msamp_valid_df[\"accuracy\"] = msamp_valid_df[\"accuracy\"].apply(convert_acc)\n",
    "bf16_valid_df[\"accuracy\"] = bf16_valid_df[\"accuracy\"].apply(convert_acc)\n",
    "fp32_valid_df[\"accuracy\"] = fp32_valid_df[\"accuracy\"].apply(convert_acc)"
   ]
  },
  {
   "cell_type": "code",
   "execution_count": 13,
   "id": "e8ba90d6-e7db-4774-a611-32eb7dcf35e9",
   "metadata": {},
   "outputs": [],
   "source": [
    "valid_diff_results = pd.DataFrame()\n",
    "valid_diff_results[\"step\"] = bf16_valid_df[\"step\"]\n",
    "valid_diff_results[\"loss_diff_bf16\"] = fp32_valid_df[\"loss\"] - bf16_valid_df[\"loss\"]\n",
    "valid_diff_results[\"loss_diff_te\"] = fp32_valid_df[\"loss\"] - te_valid_df[\"loss\"]\n",
    "valid_diff_results[\"loss_diff_msamp\"] = fp32_valid_df[\"loss\"] - msamp_valid_df[\"loss\"]\n",
    "valid_diff_results[\"accuracy_diff_bf16\"] = fp32_valid_df[\"accuracy\"] - bf16_valid_df[\"accuracy\"]\n",
    "valid_diff_results[\"accuracy_diff_te\"] = fp32_valid_df[\"accuracy\"] - te_valid_df[\"accuracy\"]\n",
    "valid_diff_results[\"accuracy_diff_msamp\"] = fp32_valid_df[\"accuracy\"] - msamp_valid_df[\"accuracy\"]"
   ]
  },
  {
   "cell_type": "code",
   "execution_count": 14,
   "id": "c545a952-a8f5-4e57-b87d-2dc1ed4bfe04",
   "metadata": {},
   "outputs": [
    {
     "data": {
      "text/plain": [
       "step                   4686.000000\n",
       "loss_diff_bf16            0.000000\n",
       "loss_diff_te              0.022278\n",
       "loss_diff_msamp           0.007520\n",
       "accuracy_diff_bf16        0.000000\n",
       "accuracy_diff_te         -0.000360\n",
       "accuracy_diff_msamp      -0.000840\n",
       "dtype: float64"
      ]
     },
     "execution_count": 14,
     "metadata": {},
     "output_type": "execute_result"
    }
   ],
   "source": [
    "valid_diff_results.sum()"
   ]
  },
  {
   "cell_type": "code",
   "execution_count": 15,
   "id": "6e3103b9-de5b-40a9-b37e-979f9534708f",
   "metadata": {},
   "outputs": [
    {
     "data": {
      "text/html": [
       "<div>\n",
       "<style scoped>\n",
       "    .dataframe tbody tr th:only-of-type {\n",
       "        vertical-align: middle;\n",
       "    }\n",
       "\n",
       "    .dataframe tbody tr th {\n",
       "        vertical-align: top;\n",
       "    }\n",
       "\n",
       "    .dataframe thead th {\n",
       "        text-align: right;\n",
       "    }\n",
       "</style>\n",
       "<table border=\"1\" class=\"dataframe\">\n",
       "  <thead>\n",
       "    <tr style=\"text-align: right;\">\n",
       "      <th></th>\n",
       "      <th>step</th>\n",
       "      <th>loss_diff_bf16</th>\n",
       "      <th>loss_diff_te</th>\n",
       "      <th>loss_diff_msamp</th>\n",
       "      <th>accuracy_diff_bf16</th>\n",
       "      <th>accuracy_diff_te</th>\n",
       "      <th>accuracy_diff_msamp</th>\n",
       "    </tr>\n",
       "  </thead>\n",
       "  <tbody>\n",
       "    <tr>\n",
       "      <th>0</th>\n",
       "      <td>1562</td>\n",
       "      <td>0.0</td>\n",
       "      <td>0.006430</td>\n",
       "      <td>-0.000510</td>\n",
       "      <td>0.0</td>\n",
       "      <td>-0.00020</td>\n",
       "      <td>-0.00020</td>\n",
       "    </tr>\n",
       "    <tr>\n",
       "      <th>1</th>\n",
       "      <td>1562</td>\n",
       "      <td>0.0</td>\n",
       "      <td>0.010856</td>\n",
       "      <td>0.003713</td>\n",
       "      <td>0.0</td>\n",
       "      <td>0.00008</td>\n",
       "      <td>-0.00028</td>\n",
       "    </tr>\n",
       "    <tr>\n",
       "      <th>2</th>\n",
       "      <td>1562</td>\n",
       "      <td>0.0</td>\n",
       "      <td>0.004992</td>\n",
       "      <td>0.004317</td>\n",
       "      <td>0.0</td>\n",
       "      <td>-0.00024</td>\n",
       "      <td>-0.00036</td>\n",
       "    </tr>\n",
       "  </tbody>\n",
       "</table>\n",
       "</div>"
      ],
      "text/plain": [
       "   step  loss_diff_bf16  loss_diff_te  loss_diff_msamp  accuracy_diff_bf16  \\\n",
       "0  1562             0.0      0.006430        -0.000510                 0.0   \n",
       "1  1562             0.0      0.010856         0.003713                 0.0   \n",
       "2  1562             0.0      0.004992         0.004317                 0.0   \n",
       "\n",
       "   accuracy_diff_te  accuracy_diff_msamp  \n",
       "0          -0.00020             -0.00020  \n",
       "1           0.00008             -0.00028  \n",
       "2          -0.00024             -0.00036  "
      ]
     },
     "execution_count": 15,
     "metadata": {},
     "output_type": "execute_result"
    }
   ],
   "source": [
    "valid_diff_results.tail()"
   ]
  },
  {
   "cell_type": "code",
   "execution_count": null,
   "id": "ab1def4e-efad-45f8-aa02-0672941fc9b8",
   "metadata": {},
   "outputs": [],
   "source": []
  }
 ],
 "metadata": {
  "kernelspec": {
   "display_name": "Python 3 (ipykernel)",
   "language": "python",
   "name": "python3"
  },
  "language_info": {
   "codemirror_mode": {
    "name": "ipython",
    "version": 3
   },
   "file_extension": ".py",
   "mimetype": "text/x-python",
   "name": "python",
   "nbconvert_exporter": "python",
   "pygments_lexer": "ipython3",
   "version": "3.10.13"
  }
 },
 "nbformat": 4,
 "nbformat_minor": 5
}
